{
 "cells": [
  {
   "cell_type": "code",
   "execution_count": 183,
   "metadata": {},
   "outputs": [],
   "source": [
    "import pandas as pd\n",
    "import numpy as np\n",
    "import seaborn as sns \n",
    "from bs4 import BeautifulSoup\n",
    "import requests"
   ]
  },
  {
   "cell_type": "code",
   "execution_count": 184,
   "metadata": {},
   "outputs": [],
   "source": [
    "from threading import local\n",
    "\n",
    "\n",
    "j =1\n",
    "names_text = []\n",
    "localisations_text = []\n",
    "price_and_area_data_text = []\n",
    "price = []\n",
    "area = []\n",
    "while True:\n",
    "    url = f\"https://www.otodom.pl/pl/oferty/wynajem/mieszkanie/wroclaw?distanceRadius=0&page={j}&limit=36&market=ALL&ownerTypeSingleSelect=ALL&locations=%5Bcities_6-39%5D&roomsNumber=%5BONE%5D&viewType=listing\"\n",
    "    r = requests.get(url)\n",
    "    html = r.text\n",
    "    soup = BeautifulSoup(html, 'html.parser')\n",
    "    if soup.find(\"h3\", text=\"Nie znaleziono ogłoszeń\"):\n",
    "        break\n",
    "    \n",
    "    names = soup.find_all('h3', class_='css-1rhznz4 es62z2j11')\n",
    "    names_text.append(list(name.text.replace(\"\\\"\",\"\") for name in names))\n",
    "    localisations = soup.find_all('span', class_='css-17o293g es62z2j9')\n",
    "    localisations_text.append(list(localisation.text.replace(\"\\\"\",\"\").split(\",\")[1] for localisation in localisations))\n",
    "    \n",
    "    price_and_area_data = soup.find_all('span', class_='css-rmqm02 eclomwz0')\n",
    "    price_and_area_data_text.append(list(area.text for area in price_and_area_data))\n",
    "    \n",
    "    for infos in price_and_area_data:\n",
    "        for info in infos:\n",
    "            if \"zł\" in info or \"€\" in info:\n",
    "                price.append(int(info.strip().replace(\"zł/mc\",\"\").replace(\"\\xa0\",\"\").replace(\"€/mc\",\"\")))\n",
    "            elif \"m²\" in info and \"pokój\" not in info:\n",
    "                area.append(float(info.replace(\"m²\", \"\").strip()))\n",
    "            \n",
    "        \n",
    "    j+=1\n",
    "    \n",
    "    \n",
    "\n"
   ]
  },
  {
   "cell_type": "code",
   "execution_count": 185,
   "metadata": {},
   "outputs": [
    {
     "name": "stdout",
     "output_type": "stream",
     "text": [
      "\n"
     ]
    }
   ],
   "source": [
    "names_flatten =[name for name in names_text for name in name]\n",
    "localisation_flatten = [loc for loc in localisations_text for loc in loc]\n",
    "df = pd.DataFrame(data={\"name\": names_flatten, \"localisation\": localisation_flatten, \"price\": price, \"area\": area})\n",
    "df\n",
    "df.to_csv(\"otodom.csv\", index=False)\n",
    "df.to_excel(\"otodom.xlsx\", index=False)\n",
    "\n",
    "x='\"'\n",
    "print(x.replace(\"\\\"\",\"\"))"
   ]
  },
  {
   "cell_type": "code",
   "execution_count": null,
   "metadata": {},
   "outputs": [],
   "source": []
  }
 ],
 "metadata": {
  "kernelspec": {
   "display_name": "Python 3.9.12 ('base')",
   "language": "python",
   "name": "python3"
  },
  "language_info": {
   "name": "python",
   "version": "3.9.12"
  },
  "orig_nbformat": 4,
  "vscode": {
   "interpreter": {
    "hash": "ad2bdc8ecc057115af97d19610ffacc2b4e99fae6737bb82f5d7fb13d2f2c186"
   }
  }
 },
 "nbformat": 4,
 "nbformat_minor": 2
}
